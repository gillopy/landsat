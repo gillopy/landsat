{
 "cells": [
  {
   "cell_type": "code",
   "execution_count": 1,
   "metadata": {},
   "outputs": [
    {
     "name": "stdout",
     "output_type": "stream",
     "text": [
      "Numero mayor\n"
     ]
    }
   ],
   "source": [
    "numero1 = 70\n",
    "\n",
    "if numero1 > 45:\n",
    "    print(\"Numero mayor\")\n",
    "else:\n",
    "    print(\"Numero menor\")"
   ]
  },
  {
   "cell_type": "code",
   "execution_count": 3,
   "metadata": {},
   "outputs": [],
   "source": [
    "if 1 < 2:\n",
    "    pass"
   ]
  },
  {
   "cell_type": "code",
   "execution_count": 4,
   "metadata": {},
   "outputs": [],
   "source": [
    "def mi_funcion():\n",
    "    pass"
   ]
  },
  {
   "cell_type": "code",
   "execution_count": 5,
   "metadata": {},
   "outputs": [],
   "source": [
    "mayor_edad = True\n",
    "tiene_bigote = False"
   ]
  },
  {
   "cell_type": "code",
   "execution_count": 6,
   "metadata": {},
   "outputs": [],
   "source": [
    "mayoria_edad = 18\n",
    "altura = 1.72"
   ]
  },
  {
   "cell_type": "code",
   "execution_count": 7,
   "metadata": {},
   "outputs": [],
   "source": [
    "frase = \"Anita lava la tina\""
   ]
  },
  {
   "cell_type": "markdown",
   "metadata": {},
   "source": [
    "#Lista"
   ]
  },
  {
   "cell_type": "code",
   "execution_count": 9,
   "metadata": {},
   "outputs": [
    {
     "name": "stdout",
     "output_type": "stream",
     "text": [
      "Hello Kitty\n"
     ]
    }
   ],
   "source": [
    "lista_vacia = [] #asi se crea una lista\n",
    "gatos = [\"Garfield\", \"Silvestre\", \"Hello Kitty\"]\n",
    "print(gatos[2]) "
   ]
  },
  {
   "cell_type": "code",
   "execution_count": 10,
   "metadata": {},
   "outputs": [
    {
     "name": "stdout",
     "output_type": "stream",
     "text": [
      "['Garfield', 'Tom', 'Hello Kitty', 'Felix']\n"
     ]
    }
   ],
   "source": [
    "gatos[1] = \"Tom\"\n",
    "gatos.append(\"Felix\")\n",
    "print(gatos) "
   ]
  },
  {
   "cell_type": "code",
   "execution_count": 11,
   "metadata": {},
   "outputs": [
    {
     "name": "stdout",
     "output_type": "stream",
     "text": [
      "['Garfield', 'Tom', 'Hello Kitty']\n"
     ]
    }
   ],
   "source": [
    "gatos.pop()\n",
    "print(gatos) "
   ]
  },
  {
   "cell_type": "code",
   "execution_count": 12,
   "metadata": {},
   "outputs": [
    {
     "name": "stdout",
     "output_type": "stream",
     "text": [
      "['Garfield', 'Hello Kitty']\n"
     ]
    }
   ],
   "source": [
    "gatos.pop(1)\n",
    "print(gatos)"
   ]
  },
  {
   "cell_type": "code",
   "execution_count": 28,
   "metadata": {},
   "outputs": [],
   "source": [
    "lista_vacia = []\n",
    "lista_compras = [\"Leche\", \"Pan\", \"Carne\", \"Pollo\", \"Queso\"]"
   ]
  },
  {
   "cell_type": "code",
   "execution_count": 29,
   "metadata": {},
   "outputs": [],
   "source": [
    "lista_especial = [1,2, [\"uno\", \"dos\", [\"tres\", \"cuatro\"]]]\t\n"
   ]
  },
  {
   "cell_type": "code",
   "execution_count": 38,
   "metadata": {},
   "outputs": [
    {
     "name": "stdout",
     "output_type": "stream",
     "text": [
      "[1, 2, ['uno', 'dos', ['tres', 'cuatro']]]\n"
     ]
    }
   ],
   "source": [
    "print(lista_especial)"
   ]
  },
  {
   "cell_type": "code",
   "execution_count": 43,
   "metadata": {},
   "outputs": [
    {
     "name": "stdout",
     "output_type": "stream",
     "text": [
      "pantalones\n",
      "camisetas\n",
      "calcetines\n",
      "['pantalones', 'sueters', 'calcetines', 'vestidos']\n"
     ]
    }
   ],
   "source": [
    "cajonera = [\"pantalones\", \"camisetas\", \"calcetines\"]\n",
    "\n",
    "print(cajonera[0]) #Accedemos al cajón con índice 0. Imprime: \"pantalones\"\n",
    "print(cajonera[1]) #Accedemos al cajón con índice 1. Imprime: \"camisetas\"\n",
    "print(cajonera[2]) #Accedemos al cajón con índice 2. Imprime: \"calcetines\"\n",
    "\n",
    "cajonera[1]= 'sueters'\n",
    "cajonera.append(\"vestidos\")\n",
    " #Cambiamos el valor del cajón con índice 1\n",
    "\n",
    "print(cajonera) #Imprime: ['pantalones', 'sueters', 'calcetines']"
   ]
  },
  {
   "cell_type": "code",
   "execution_count": 44,
   "metadata": {},
   "outputs": [
    {
     "name": "stdout",
     "output_type": "stream",
     "text": [
      "[8, 10, 12, 14, 16]\n",
      "[2, 4, 6, 8, 10, 12]\n",
      "[8, 10, 12]\n"
     ]
    }
   ],
   "source": [
    "lista_grande = [2, 4, 6, 8, 10, 12, 14, 16]\n",
    "\n",
    "print(lista_grande[3:]) #Imprime:[8, 10, 12, 14, 16]\n",
    "print(lista_grande[:6]) #Imprime:[2, 4, 6, 8, 10, 12]\n",
    "print(lista_grande[3:6]) #Imprime:[8, 10, 12]"
   ]
  },
  {
   "cell_type": "code",
   "execution_count": 62,
   "metadata": {},
   "outputs": [
    {
     "name": "stdout",
     "output_type": "stream",
     "text": [
      "['0.5', 2, 3, 4, 5, 6, 7, 8, 9, 10]\n"
     ]
    }
   ],
   "source": [
    "lis = [1, 2, 3, 4, 5, 6, 7, 8, 9, 10]\n",
    "lis[0] = \"0.5\"\n",
    "print(lis) #Imprime: [1, 2, 3, 4, 5, 6, 7, 8, 9, 10]"
   ]
  },
  {
   "cell_type": "code",
   "execution_count": 54,
   "metadata": {},
   "outputs": [
    {
     "name": "stdout",
     "output_type": "stream",
     "text": [
      "['Elsa', 'Anna']\n"
     ]
    }
   ],
   "source": [
    "frozen = [\"Elsa\", \"Anna\", \"Olaf\"]\n",
    "frozen.pop(2) #Sintaxis: nombre_lista.funcion()\n",
    "\n",
    "print(frozen) #Imprime: ['Elsa', 'Anna']"
   ]
  },
  {
   "cell_type": "markdown",
   "metadata": {},
   "source": [
    "#Tupla"
   ]
  },
  {
   "cell_type": "code",
   "execution_count": 65,
   "metadata": {},
   "outputs": [
    {
     "name": "stdout",
     "output_type": "stream",
     "text": [
      "('garfield', 'silvestre', 'hello kitty')\n"
     ]
    }
   ],
   "source": [
    "gattin = (\"garfield\", \"silvestre\", \"hello kitty\")\n",
    "print(gattin)"
   ]
  },
  {
   "cell_type": "code",
   "execution_count": 73,
   "metadata": {},
   "outputs": [
    {
     "name": "stdout",
     "output_type": "stream",
     "text": [
      "('garfield', 'silvestre', 'hello kitty', 'garfield2', 'garfield2', 'garfield2', [0], 'garfield2')\n"
     ]
    }
   ],
   "source": [
    "gattin = gattin+ (\"garfield2\",)\n",
    "print(gattin)"
   ]
  },
  {
   "cell_type": "code",
   "execution_count": 21,
   "metadata": {},
   "outputs": [
    {
     "name": "stdout",
     "output_type": "stream",
     "text": [
      "Gran Danés\n"
     ]
    }
   ],
   "source": [
    "perro = (\"Scooby Doo\", \"Gran Danés\", \"Scooby Galletas\", 7)\n",
    "print(perro[1]) #Imprime: Scooby Doo\n"
   ]
  },
  {
   "cell_type": "code",
   "execution_count": 16,
   "metadata": {},
   "outputs": [
    {
     "ename": "TypeError",
     "evalue": "'tuple' object does not support item assignment",
     "output_type": "error",
     "traceback": [
      "\u001b[1;31m---------------------------------------------------------------------------\u001b[0m",
      "\u001b[1;31mTypeError\u001b[0m                                 Traceback (most recent call last)",
      "Cell \u001b[1;32mIn[16], line 1\u001b[0m\n\u001b[1;32m----> 1\u001b[0m perro[\u001b[38;5;241m2\u001b[39m] \u001b[38;5;241m=\u001b[39m \u001b[38;5;124m\"\u001b[39m\u001b[38;5;124mcomida de perro\u001b[39m\u001b[38;5;124m\"\u001b[39m\n",
      "\u001b[1;31mTypeError\u001b[0m: 'tuple' object does not support item assignment"
     ]
    }
   ],
   "source": [
    "perro[2] = \"comida de perro\""
   ]
  },
  {
   "cell_type": "code",
   "execution_count": 55,
   "metadata": {},
   "outputs": [],
   "source": [
    "tupla_letras = (\"a\", \"e\", \"i\", \"o\", \"u\")\n",
    "tupla_sin_parentesis = \"a\", \"e\", \"i\", \"o\", \"u\""
   ]
  },
  {
   "cell_type": "code",
   "execution_count": 56,
   "metadata": {},
   "outputs": [],
   "source": [
    "gato = (\"Miu\", 5, \"persa\", False)"
   ]
  },
  {
   "cell_type": "code",
   "execution_count": 58,
   "metadata": {},
   "outputs": [
    {
     "name": "stdout",
     "output_type": "stream",
     "text": [
      "5\n"
     ]
    }
   ],
   "source": [
    "print(gato[1]) #Imprime: Miu"
   ]
  },
  {
   "cell_type": "code",
   "execution_count": 63,
   "metadata": {},
   "outputs": [
    {
     "name": "stdout",
     "output_type": "stream",
     "text": [
      "('Miu', 5, 'persa', False, '4.1')\n"
     ]
    }
   ],
   "source": [
    "gato = gato + (\"4.1\",)\n",
    "print(gato) #Imprime: ('Miu', 5, 'persa', False, '4.1')"
   ]
  },
  {
   "cell_type": "code",
   "execution_count": 64,
   "metadata": {},
   "outputs": [],
   "source": [
    "def suma_multiplicacion(x, y):\n",
    "   suma = x + y\n",
    "   multiplicacion = x * y\n",
    "   return (suma, multiplicacion)"
   ]
  },
  {
   "cell_type": "markdown",
   "metadata": {},
   "source": [
    "#diccionario"
   ]
  },
  {
   "cell_type": "code",
   "execution_count": 109,
   "metadata": {},
   "outputs": [],
   "source": [
    "estudiante = {\"nombre\": \"Gonzalo\", \"curso\": \"Python\"} #Notación Literal\n",
    "paises = {} #Diccionario vacío\n",
    "paises[\"MEX\"] = \"México\" #Agregando valores\n",
    "paises[\"COL\"] = \"Colombia\"\n",
    "paises[\"CHL\"] = \"Chile\""
   ]
  },
  {
   "cell_type": "code",
   "execution_count": 88,
   "metadata": {},
   "outputs": [
    {
     "data": {
      "text/plain": [
       "{'MEX': 'México', 'COL': 'Colombia', 'CHL': 'Chile'}"
      ]
     },
     "execution_count": 88,
     "metadata": {},
     "output_type": "execute_result"
    }
   ],
   "source": [
    "paises"
   ]
  },
  {
   "cell_type": "code",
   "execution_count": 93,
   "metadata": {},
   "outputs": [
    {
     "name": "stdout",
     "output_type": "stream",
     "text": [
      "Python\n"
     ]
    }
   ],
   "source": [
    "print(estudiante[\"curso\"])"
   ]
  },
  {
   "cell_type": "code",
   "execution_count": 94,
   "metadata": {},
   "outputs": [
    {
     "name": "stdout",
     "output_type": "stream",
     "text": [
      "guillemo\n"
     ]
    }
   ],
   "source": [
    "estudiante[\"nombre\"] = \"guillemo\"\n",
    "print(estudiante[\"nombre\"]) #Imprime: Vicente"
   ]
  },
  {
   "cell_type": "code",
   "execution_count": 27,
   "metadata": {},
   "outputs": [
    {
     "name": "stdout",
     "output_type": "stream",
     "text": [
      "{'nombre': 'Valeria', 'edad': 31, 'altura': 1.71, 'usa_lentes': False, 'hobbies': ['jugar videojuegos', 'programación']}\n",
      "1.71\n",
      "{'nombre': 'Valeria', 'edad': 31, 'usa_lentes': False, 'hobbies': ['jugar videojuegos', 'programación']}\n"
     ]
    }
   ],
   "source": [
    "diccionario_vacio = {}\n",
    "persona = {'nombre': 'Carmen', 'edad': 31, 'altura': 1.71, 'usa_lentes': False}\n",
    "persona['nombre'] = 'Valeria'  # Actualiza si el valor de la llave existente\n",
    "persona['hobbies'] = ['jugar videojuegos', 'programación'] # Agrega esa clave-valor si no existía previamente\n",
    "\n",
    "print(persona) # Imprime: {'nombre': 'Carmen', 'edad': 31, 'altura': 1.71, 'usa_lentes': False, 'hobbies': ['jugar videojuegos', 'programación']}\n",
    "\n",
    "altura = persona.pop('altura')  # Elimina la clave indicada y devuelve el valor\n",
    "print(altura) # Imprime: 1.71\n",
    "print(persona) # salida: {'nombre': 'Carmen', 'edad': 31, 'usa_lentes': False, 'hobbies': ['jugar videojuegos', 'programación']} "
   ]
  },
  {
   "cell_type": "code",
   "execution_count": 110,
   "metadata": {},
   "outputs": [],
   "source": [
    "if \"CRI\" in paises: #Preguntamos si existe la clave en el diccionario\n",
    "   print(\"¿Deseas reemplazar el valor?\")\n",
    "else: #No existe esa clave\n",
    "   paises[\"CRI\"] = \"Costa Rica\""
   ]
  },
  {
   "cell_type": "code",
   "execution_count": 111,
   "metadata": {},
   "outputs": [
    {
     "data": {
      "text/plain": [
       "{'MEX': 'México', 'COL': 'Colombia', 'CHL': 'Chile', 'CRI': 'Costa Rica'}"
      ]
     },
     "execution_count": 111,
     "metadata": {},
     "output_type": "execute_result"
    }
   ],
   "source": [
    "paises"
   ]
  },
  {
   "cell_type": "code",
   "execution_count": 112,
   "metadata": {},
   "outputs": [
    {
     "name": "stdout",
     "output_type": "stream",
     "text": [
      "{'CHL': 'Chile', 'CRI': 'Costa Rica'}\n"
     ]
    }
   ],
   "source": [
    "valor_removido = paises.pop(\"MEX\") #Elimina el elemento y devuelve su valor\n",
    "del paises[\"COL\"] #Elimina el elemento directamente (¡NO RECOMENDADO!)\n",
    "print(paises) #Imprime: {'CHL': 'Chile'}\n"
   ]
  },
  {
   "cell_type": "code",
   "execution_count": 113,
   "metadata": {},
   "outputs": [],
   "source": [
    "intor = { \"nombre\": \"Frida Kahlo\", \"pais\": \"México\", \"fecha_nacimiento\": \"6 de julio de 1907\"}"
   ]
  },
  {
   "cell_type": "code",
   "execution_count": 114,
   "metadata": {},
   "outputs": [],
   "source": [
    "pintor = {\n",
    "   \"nombre\": \"Frida Kahlo\",\n",
    "   \"pais\": \"México\",\n",
    "   \"fecha_nacimiento\": \"6 de julio de 1907\"\n",
    "}"
   ]
  },
  {
   "cell_type": "code",
   "execution_count": 121,
   "metadata": {},
   "outputs": [],
   "source": [
    "YO = {\n",
    "    \"nombre\" : \"guillermo\",\n",
    "    \"edad\" : 27,\n",
    "    \"curso\" : \"Python\",\n",
    "}"
   ]
  },
  {
   "cell_type": "code",
   "execution_count": 123,
   "metadata": {},
   "outputs": [
    {
     "data": {
      "text/plain": [
       "{'nombre': 'guillermo', 'edad': 27, 'curso': 'Python'}"
      ]
     },
     "execution_count": 123,
     "metadata": {},
     "output_type": "execute_result"
    }
   ],
   "source": [
    "YO"
   ]
  },
  {
   "cell_type": "code",
   "execution_count": 124,
   "metadata": {},
   "outputs": [],
   "source": [
    "escuela = {\n",
    "   \"nombre\": \"Coding Dojo LATAM\",\n",
    "   \"profesores\": [\n",
    "       {\"nombre\": \"Alfredo\", \"apellido\": \"Salazar\", \"cursos\": [\"Python\", \"Java\"]},\n",
    "       {\"nombre\": \"Valeria\", \"apellido\": \"Romero\", \"cursos\": [\"Fundamentos\", \"Java\"]},\n",
    "       {\"nombre\": \"Marcelo\", \"apellido\": \"Argotti\", \"cursos\":[\"MERN\", \"Python\"]}\n",
    "   ]\n",
    "}"
   ]
  },
  {
   "cell_type": "code",
   "execution_count": 125,
   "metadata": {},
   "outputs": [
    {
     "name": "stdout",
     "output_type": "stream",
     "text": [
      "Temperatura media: 23.3\n"
     ]
    }
   ],
   "source": [
    "# Lista de temperaturas diarias\n",
    "temperaturas = [22.5, 21.0, 23.3, 25.2, 24.5]\n",
    "media_temperatura = sum(temperaturas) / len(temperaturas)\n",
    "print(\"Temperatura media:\", media_temperatura)"
   ]
  },
  {
   "cell_type": "code",
   "execution_count": 126,
   "metadata": {},
   "outputs": [
    {
     "name": "stdout",
     "output_type": "stream",
     "text": [
      "Distancia: 10\n"
     ]
    }
   ],
   "source": [
    "# Coordenadas geográficas de una ubicación\n",
    "coordenadas = (19.4326, -99.1332)  # Latitud y longitud de Ciudad de México\n",
    "\n",
    "def calcular_distancia(coord1, coord2):\n",
    "    # Implementación ficticia para calcular la distancia\n",
    "    distancia = 10  # Solo un valor de ejemplo\n",
    "    return distancia\n",
    "\n",
    "distancia = calcular_distancia(coordenadas, (34.0522, -118.2437))\n",
    "print(\"Distancia:\", distancia)"
   ]
  },
  {
   "cell_type": "code",
   "execution_count": 127,
   "metadata": {},
   "outputs": [
    {
     "name": "stdout",
     "output_type": "stream",
     "text": [
      "Nombre del conjunto de datos: Datos de ventas\n",
      "Número de filas: 1000\n"
     ]
    }
   ],
   "source": [
    "# Diccionario con información sobre un conjunto de datos\n",
    "dataset_info = {\n",
    "    \"nombre\": \"Datos de ventas\",\n",
    "    \"columnas\": [\"fecha\", \"producto\", \"cantidad\", \"precio\"],\n",
    "    \"filas\": 1000,\n",
    "    \"fuente\": \"Sistema de ventas interno\"\n",
    "}\n",
    "\n",
    "print(\"Nombre del conjunto de datos:\", dataset_info[\"nombre\"])\n",
    "print(\"Número de filas:\", dataset_info[\"filas\"])"
   ]
  },
  {
   "cell_type": "code",
   "execution_count": 144,
   "metadata": {},
   "outputs": [
    {
     "name": "stdout",
     "output_type": "stream",
     "text": [
      "Número menor a 10\n"
     ]
    }
   ],
   "source": [
    "num = 20\n",
    "\n",
    "if num > 100:\n",
    "   print(\"Número mayor a 100\")\n",
    "elif num > 50:\n",
    "   print(\"Número mayor a 50\")\n",
    "else:\n",
    "   print(\"Número menor a 10\")\n"
   ]
  },
  {
   "cell_type": "code",
   "execution_count": 145,
   "metadata": {},
   "outputs": [
    {
     "name": "stdout",
     "output_type": "stream",
     "text": [
      "Número menor a 50\n"
     ]
    }
   ],
   "source": [
    "\n",
    "'''\n",
    "A pesar de que num es mayor que 50 y 100, la primera condicional que se cumpla es la única que se ejecutará.\n",
    "Es por eso que solo imprimirá: \"Número mayor a 50\"\n",
    "'''\n",
    "\n",
    "if num < 50:\n",
    "   print(\"Número menor a 50\")\n",
    "#No se cumple con la condicional, por lo que no se ejecuta el bloque de código"
   ]
  },
  {
   "cell_type": "code",
   "execution_count": 86,
   "metadata": {},
   "outputs": [
    {
     "name": "stdout",
     "output_type": "stream",
     "text": [
      "Hola, mundo\n",
      "Hola, Valeria !\n",
      "Hola, Valeria!\n",
      "Hola 156 !\n",
      "Hola156!\n",
      "Me encanta comer tacos y arepas\n",
      "Me encanta comer tacos y arepas!\n"
     ]
    }
   ],
   "source": [
    "# 1. Imprime \"Hola, mundo\"\n",
    "print(\"Hola, mundo\")\n",
    "\n",
    "# 2. Imprime \"Hola, Valeria\" con el nombre en una variable\n",
    "nombre = \"Valeria\"\n",
    "print(\"Hola,\",nombre,\"!\") # con una coma\n",
    "print( \"Hola, \" + nombre + \"!\" ) # con un +\n",
    "\n",
    "\n",
    "# 3. Imprimir \"Hola 156!\" con el número en una variable\n",
    "numero = 156\n",
    "print(\"Hola\",str(numero),\"!\") # con una coma\n",
    "print(\"Hola\" + str(numero)+\"!\") # con un + -- este debería arrojar un error!, corrígelo con conversión\n",
    "\n",
    "# 4. Imprimir \"Me encanta comer tacos y arepas\" con las comidas en variables\n",
    "comida1 = \"tacos\"\n",
    "comida2 = \"arepas\"\n",
    "print(\"Me encanta comer {} y {}\".format(comida1, comida2))\n",
    "print(f\"Me encanta comer {comida1} y {comida2}!\")\n"
   ]
  },
  {
   "cell_type": "markdown",
   "metadata": {},
   "source": [
    "#bucle"
   ]
  },
  {
   "cell_type": "code",
   "execution_count": 160,
   "metadata": {},
   "outputs": [
    {
     "name": "stdout",
     "output_type": "stream",
     "text": [
      "35\n",
      "30\n",
      "25\n",
      "20\n",
      "15\n",
      "10\n",
      "5\n"
     ]
    }
   ],
   "source": [
    "for i in range(35,0,-5):\n",
    "    print(i)"
   ]
  },
  {
   "cell_type": "code",
   "execution_count": 168,
   "metadata": {},
   "outputs": [
    {
     "name": "stdout",
     "output_type": "stream",
     "text": [
      "P\n",
      "y\n",
      "t\n",
      "h\n",
      "o\n",
      "n\n"
     ]
    }
   ],
   "source": [
    "for letra in 'Python':\n",
    "   print(letra)\n",
    "#Imprime: 'P', 'y', 't', 'h', 'o', 'n'"
   ]
  },
  {
   "cell_type": "code",
   "execution_count": 170,
   "metadata": {},
   "outputs": [
    {
     "name": "stdout",
     "output_type": "stream",
     "text": [
      "0 brócoli\n",
      "1 pepino\n",
      "2 pimiento\n",
      "3 pollo\n",
      "4 ajo\n",
      "brócoli\n",
      "pepino\n",
      "pimiento\n",
      "pollo\n",
      "ajo\n"
     ]
    }
   ],
   "source": [
    "lista = ['brócoli', 'pepino', 'pimiento','pollo', 'ajo']\n",
    "\n",
    "for i in range( len(lista) ):\n",
    "   print(i, lista[i])\n",
    "#Imprime: 0 brócoli, 1 pepino, 2 pimiento\n",
    "\n",
    "for verdura in lista:\n",
    "   print(verdura)\n",
    "#Imprime: brócoli, pepino, pimiento"
   ]
  },
  {
   "cell_type": "code",
   "execution_count": 171,
   "metadata": {},
   "outputs": [
    {
     "name": "stdout",
     "output_type": "stream",
     "text": [
      "0 fresa\n",
      "1 manzana\n",
      "2 cereza\n",
      "fresa\n",
      "manzana\n",
      "cereza\n"
     ]
    }
   ],
   "source": [
    "tupla = ('fresa', 'manzana', 'cereza')\n",
    "\n",
    "for i in range( len(tupla) ):\n",
    "   print(i, tupla[i])\n",
    "#Imprime: 0 fresa, 1 manzana, 2 cereza\n",
    "\n",
    "for fruta in tupla:\n",
    "   print(fruta)\n",
    "#Imprime: fresa, manzana, cereza"
   ]
  },
  {
   "cell_type": "code",
   "execution_count": 174,
   "metadata": {},
   "outputs": [
    {
     "name": "stdout",
     "output_type": "stream",
     "text": [
      "nombre\n",
      "curso\n"
     ]
    }
   ],
   "source": [
    "estudiante = {\"nombre\": \"Gonzalo\", \"curso\": \"Python\"}\n",
    "\n",
    "for clave in estudiante:\n",
    "   print(clave)\n",
    "#Imprime: nombre, curso"
   ]
  },
  {
   "cell_type": "code",
   "execution_count": 175,
   "metadata": {},
   "outputs": [
    {
     "name": "stdout",
     "output_type": "stream",
     "text": [
      "Gonzalo\n",
      "Python\n"
     ]
    }
   ],
   "source": [
    "estudiante= {\"nombre\": \"Gonzalo\", \"curso\": \"Python\"}\n",
    "\n",
    "for clave in estudiante:\n",
    "   print(estudiante[clave])"
   ]
  },
  {
   "cell_type": "code",
   "execution_count": 182,
   "metadata": {},
   "outputs": [
    {
     "name": "stdout",
     "output_type": "stream",
     "text": [
      "México\n",
      "Colombia\n",
      "Costa Rica\n",
      "Tacos\n",
      "Ajiaco\n",
      "Casado\n",
      "México = Tacos\n",
      "Colombia = Ajiaco\n",
      "Costa Rica = Casado\n"
     ]
    }
   ],
   "source": [
    "platillos_tipicos = {\"México\": \"Tacos\", \"Colombia\": \"Ajiaco\", \"Costa Rica\": \"Casado\"}\n",
    "\n",
    "#Otra forma de iterar a través de las claves\n",
    "for clave in platillos_tipicos.keys():\n",
    "   print(clave)\n",
    "#Imprime: México, Colombia, Costa Rica\n",
    "\n",
    "\n",
    "#Iteramos a través de los valores\n",
    "for valor in platillos_tipicos.values():\n",
    "   print(valor)\n",
    "#Imprime: Tacos, Ajiaco, Casado\n",
    "\n",
    "#Iteramos a través de los elementos (clave-valor)\n",
    "for clave, valor in platillos_tipicos.items():\n",
    "   print(clave, \"=\", valor)\n",
    "#Imprime: México = Tacos, Colombia = Ajiaco, Costa Rica = Casado"
   ]
  },
  {
   "cell_type": "code",
   "execution_count": 193,
   "metadata": {},
   "outputs": [
    {
     "name": "stdout",
     "output_type": "stream",
     "text": [
      "bucle while - 0\n",
      "bucle while - 1\n",
      "bucle while - 2\n",
      "bucle while - 3\n"
     ]
    }
   ],
   "source": [
    "num = 0\n",
    "\n",
    "while num < 4:\n",
    "   print(\"bucle while -\", num)\n",
    "   num += 1\n",
    "#Imprime: bucle while - 0, bucle while - 1, bucle while - 2, bucle while - 3"
   ]
  },
  {
   "cell_type": "code",
   "execution_count": 194,
   "metadata": {},
   "outputs": [
    {
     "name": "stdout",
     "output_type": "stream",
     "text": [
      "bucle while - 0\n",
      "bucle while - 1\n",
      "bucle while - 2\n",
      "bucle while - 3\n",
      "Acabamos de salir del bucle\n"
     ]
    }
   ],
   "source": [
    "num = 0\n",
    "\n",
    "while num < 4:\n",
    "   print(\"bucle while -\", num)\n",
    "   num += 1\n",
    "else:\n",
    "   print(\"Acabamos de salir del bucle\")\n"
   ]
  },
  {
   "cell_type": "code",
   "execution_count": 197,
   "metadata": {},
   "outputs": [
    {
     "name": "stdout",
     "output_type": "stream",
     "text": [
      "d\n",
      "e\n",
      "t\n",
      "e\n",
      "n\n",
      "n\n",
      "n\n",
      "n\n",
      "n\n"
     ]
    }
   ],
   "source": [
    "for letra in \"detennnnn6te\":\n",
    "   if letra == \"6\":\n",
    "       break\n",
    "   print(letra)\n",
    "#Imprime: d, e, t, e"
   ]
  },
  {
   "cell_type": "code",
   "execution_count": 198,
   "metadata": {},
   "outputs": [
    {
     "name": "stdout",
     "output_type": "stream",
     "text": [
      "d\n",
      "e\n",
      "t\n",
      "e\n",
      "n\n",
      "t\n",
      "e\n",
      "5\n",
      "5\n",
      "5\n",
      "5\n",
      "5\n"
     ]
    }
   ],
   "source": [
    "for letra in \"detente455555\":\n",
    "   if letra == \"4\":\n",
    "        continue\n",
    "   print(letra)\n",
    "#Imprime: d, e, t, e, t, e"
   ]
  },
  {
   "cell_type": "code",
   "execution_count": 200,
   "metadata": {},
   "outputs": [
    {
     "name": "stdout",
     "output_type": "stream",
     "text": [
      "6\n",
      "5\n",
      "4\n",
      "3\n",
      "Sentencia final\n"
     ]
    }
   ],
   "source": [
    "x = 6\n",
    "\n",
    "while x > 2:\n",
    "   print(x)\n",
    "   x -= 1\n",
    "   if x == 6:\n",
    "       break\n",
    "else: #Recuerda: Solo se ejecuta en una salida normal, NO en un break\n",
    "   print(\"Sentencia final\")"
   ]
  }
 ],
 "metadata": {
  "kernelspec": {
   "display_name": "base",
   "language": "python",
   "name": "python3"
  },
  "language_info": {
   "codemirror_mode": {
    "name": "ipython",
    "version": 3
   },
   "file_extension": ".py",
   "mimetype": "text/x-python",
   "name": "python",
   "nbconvert_exporter": "python",
   "pygments_lexer": "ipython3",
   "version": "3.12.3"
  }
 },
 "nbformat": 4,
 "nbformat_minor": 2
}
