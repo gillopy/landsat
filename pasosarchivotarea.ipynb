{
 "cells": [
  {
   "cell_type": "markdown",
   "metadata": {},
   "source": [
    "####Pasos para subir mis tareas"
   ]
  },
  {
   "cell_type": "markdown",
   "metadata": {},
   "source": [
    "editar archivo\n",
    "\n",
    "guardar archivo\n",
    "\n",
    "git add . \n",
    "git commit -m \"algo que decir\"\n",
    "git push\n",
    "\n"
   ]
  }
 ],
 "metadata": {
  "language_info": {
   "name": "python"
  }
 },
 "nbformat": 4,
 "nbformat_minor": 2
}
